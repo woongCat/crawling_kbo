{
 "cells": [
  {
   "cell_type": "code",
   "execution_count": null,
   "metadata": {},
   "outputs": [],
   "source": [
    "# https://docs.google.com/spreadsheets/d/1OZQjI2cVwLeYBkJAA3V1pmr8k1wnM6vrFtlOjTq7Kgo/edit?usp=drivesdk\n",
    "\n",
    "# 1. kbo 홈페이지에서 나오는 승률 https://www.koreabaseball.com/Record/TeamRank/TeamRankDaily.aspx\n",
    "# 2. kbo 홈페이지 > 기록•순위 > 관중 현황 > 일자별 관중 현황에서 구단 이름별로 관중수 기록하기 (ex. 아래 사진에서 2025/04/11 NC 롯데 13728은 NC 관중수, 롯데 관중수에 둘 다 13728로 기록함) https://www.koreabaseball.com/Record/Crowd/GraphDaily.aspx\n",
    "\n",
    "#     ![1000070933.jpg](attachment:cc8d1a90-7811-4176-acf0-a1162d3a1ba9:1000070933.jpg)\n",
    "\n",
    "# 3. 유튜브 TVING SPORTS에 올라오는 경기 하이라이트 조회수를 오후 6시를 기준으로 2와 같이 기록함 https://youtube.com/@tvingsports?si=1Lyj8nLcyGIicNt2\n",
    "# 4. 인스타그램 각 구단별로 경기 결과가 올라오는 게시물, 그게 없다면 경기 이후 올라온 첫번째 게시물을 오후 6시를 기준으로 각각 기록함\n",
    "\n",
    "# KIA https://www.instagram.com/always_kia_tigers?igsh=NGJsMWljZGw4MDE5\n",
    "\n",
    "# 삼성 https://www.instagram.com/samsunglions_baseballclub?igsh=dHZhbG5rbjQ3N3Q1\n",
    "\n",
    "# LG https://www.instagram.com/lgtwinsbaseballclub?igsh=MTBncnAzNTNqczVsYw==\n",
    "\n",
    "# 두산 https://www.instagram.com/doosanbears.1982?igsh=MXFkaW44NDdrbHVkOQ==\n",
    "\n",
    "# KT https://www.instagram.com/ktwiz.pr?igsh=MTVyNXk5c29ldzJxbg==\n",
    "\n",
    "# SSG https://www.instagram.com/ssglanders.incheon?igsh=YTJqcGZlMDRmMWl6\n",
    "\n",
    "# 롯데 https://www.instagram.com/busanlottegiants?igsh=NDZzM2YxdWp2dmU5\n",
    "\n",
    "# 한화 https://www.instagram.com/hanwhaeagles_soori?igsh=MWpqaGRyc2d0YzVybw==\n",
    "\n",
    "# NC https://www.instagram.com/ncdinos2011?igsh=MThxaGwxeWhhaDRydw==\n",
    "\n",
    "# 키움 https://www.instagram.com/heroesbaseballclub?igsh=eHZwMGZsajk2bTE1"
   ]
  },
  {
   "cell_type": "code",
   "execution_count": null,
   "metadata": {},
   "outputs": [],
   "source": [
    "# 항목 이름\t설명\t예시\n",
    "# 요소 복사 (Copy element)\t선택한 HTML 요소 전체를 복사 (outerHTML과 같음)\t<td>0.87</td>\n",
    "# outerHTML 복사\t요소 전체의 HTML을 복사 (자기 자신 포함)\t<td style=\"...\">0.87</td>\n",
    "# selector 복사\t해당 요소를 선택할 수 있는 CSS 셀렉터를 복사\t#tableId > tbody > tr:nth-child(2) > td:nth-child(2)\n",
    "# JS 경로 복사 (Copy JS path)\tJS에서 document.querySelector()로 사용할 수 있는 경로\tdocument.querySelector(\"#tableId > tbody > tr:nth-child(2) > td:nth-child(2)\")\n",
    "# 스타일 복사 (Copy styles)\t요소에 적용된 CSS 스타일만 복사 (인라인 및 계산된 스타일 포함 가능)\tcolor: red; font-size: 14px;\n",
    "# XPath 복사\tXPath 표현식으로 요소를 식별할 수 있는 경로 복사\t//*[@id=\"tableId\"]/tbody/tr[2]/td[2]\n",
    "# 전체 XPath 복사 (Full XPath)\t문서 전체를 기준으로 절대 XPath를 복사\t/html/body/div[2]/table/tbody/tr[2]/td[2]"
   ]
  },
  {
   "cell_type": "code",
   "execution_count": null,
   "metadata": {},
   "outputs": [],
   "source": []
  },
  {
   "cell_type": "markdown",
   "metadata": {},
   "source": [
    "# 일자 승률, 일자 관중, 매일 조회수 현황\n"
   ]
  },
  {
   "cell_type": "code",
   "execution_count": null,
   "metadata": {},
   "outputs": [],
   "source": [
    "# TODO: 함수화 필요\n",
    "# TODO: 자동 저장 필요\n",
    "# TODO: 매일 함수화 필요"
   ]
  },
  {
   "cell_type": "code",
   "execution_count": 87,
   "metadata": {},
   "outputs": [
    {
     "name": "stdout",
     "output_type": "stream",
     "text": [
      "{'롯데': 152961, 'NC': 152961, '키움': 168282, '한화': 168282, '두산': 168297, 'LG': 168297}\n"
     ]
    }
   ],
   "source": [
    "import os\n",
    "import re\n",
    "from datetime import datetime, timedelta, timezone\n",
    "\n",
    "import requests\n",
    "from dotenv import load_dotenv\n",
    "\n",
    "# 환경변수 불러오기\n",
    "load_dotenv()\n",
    "API_KEY = os.getenv(\"YOUTUBE_KEY\")\n",
    "\n",
    "# TVINGSPORTS 채널 ID\n",
    "CHANNEL_ID = \"UC8JtQf77wqhVpOQ8Cze8JjA\"\n",
    "\n",
    "# 어제 날짜 (KST 기준, 예: '4/12')\n",
    "KST = timezone(timedelta(hours=9))\n",
    "yesterday_kst = datetime.now(KST).date() - timedelta(days=1)\n",
    "yesterday_str = f\"{yesterday_kst.month}/{yesterday_kst.day}\"\n",
    "\n",
    "\n",
    "# 영상 ID 수집\n",
    "def get_video_ids(channel_id, max_results=20):\n",
    "    search_url = \"https://www.googleapis.com/youtube/v3/search\"\n",
    "    params = {\n",
    "        \"key\": API_KEY,\n",
    "        \"channelId\": channel_id,\n",
    "        \"part\": \"snippet\",\n",
    "        \"order\": \"date\",\n",
    "        \"maxResults\": max_results,\n",
    "        \"type\": \"video\",\n",
    "    }\n",
    "    response = requests.get(search_url, params=params)\n",
    "    response.raise_for_status()\n",
    "    items = response.json().get(\"items\", [])\n",
    "    return [item[\"id\"][\"videoId\"] for item in items]\n",
    "\n",
    "\n",
    "# 영상 제목 + 조회수 수집\n",
    "def get_video_details(video_ids, date_keyword):\n",
    "    details_url = \"https://www.googleapis.com/youtube/v3/videos\"\n",
    "    params = {\"key\": API_KEY, \"part\": \"snippet,statistics\", \"id\": \",\".join(video_ids)}\n",
    "    response = requests.get(details_url, params=params)\n",
    "    response.raise_for_status()\n",
    "    items = response.json().get(\"items\", [])\n",
    "\n",
    "    results = []\n",
    "    for item in items:\n",
    "        title = item[\"snippet\"][\"title\"]\n",
    "        views = int(item[\"statistics\"].get(\"viewCount\", 0))\n",
    "        \n",
    "        # 🎯 날짜 포함 + 'KBO 리그' 포함하는 영상만\n",
    "        if date_keyword in title and 'KBO 리그' in title:\n",
    "            results.append({\"title\": title, \"views\": views})\n",
    "    return results\n",
    "\n",
    "\n",
    "def get_view_data(filtered_videos):\n",
    "    view_data = {}\n",
    "    for video in filtered_videos:\n",
    "        title = video[\"title\"]\n",
    "        views = video[\"views\"]\n",
    "\n",
    "        match = re.search(r\"\\[(.*?) vs (.*?)\\]\", title)\n",
    "        if match:\n",
    "            team1, team2 = match.group(1), match.group(2)\n",
    "            view_data[f\"{team1}\"] = views\n",
    "            view_data[f\"{team2}\"] = views\n",
    "            \n",
    "    return view_data\n",
    "\n",
    "# 실행\n",
    "if __name__ == \"__main__\":\n",
    "    try:\n",
    "        video_ids = get_video_ids(CHANNEL_ID)\n",
    "        filtered_videos = get_video_details(video_ids, yesterday_str)\n",
    "        view_data = get_view_data(filtered_videos)\n",
    "        print(view_data)\n",
    "        \n",
    "    except Exception as e:\n",
    "        print(\"⚠️ 오류 발생:\", e)"
   ]
  },
  {
   "cell_type": "code",
   "execution_count": 88,
   "metadata": {},
   "outputs": [
    {
     "data": {
      "text/plain": [
       "{'NC': '15,222', 'LG': '22,938', '한화': '15,457'}"
      ]
     },
     "execution_count": 88,
     "metadata": {},
     "output_type": "execute_result"
    }
   ],
   "source": [
    "from datetime import datetime, timedelta, timezone\n",
    "\n",
    "import requests\n",
    "from bs4 import BeautifulSoup\n",
    "\n",
    "# 어제 날짜 KST 기준\n",
    "KST = timezone(timedelta(hours=9))\n",
    "yesterday = datetime.now(KST).date() - timedelta(days=1)\n",
    "yesterday_str = yesterday.strftime(\"%m/%d\")  # 예: '04/12'\n",
    "\n",
    "\n",
    "# 관중 수 테이블에서 어제 날짜 기준 데이터 가져오기\n",
    "def get_crowd_data():\n",
    "    url = \"https://www.koreabaseball.com/Record/Crowd/GraphDaily.aspx\"\n",
    "    response = requests.get(url)\n",
    "    response.encoding = \"utf-8\"\n",
    "\n",
    "    soup = BeautifulSoup(response.text, \"html.parser\")\n",
    "    rows = soup.table.find_all(\"tr\")\n",
    "\n",
    "    crowd_data = {}\n",
    "\n",
    "    for row in rows[1:]:  # 첫 번째 행은 헤더\n",
    "        cols = row.find_all(\"td\")\n",
    "        date = cols[0].text.strip()\n",
    "\n",
    "        try:\n",
    "            KST = timezone(timedelta(hours=9))\n",
    "            yesterday_kst = datetime.now(KST).date() - timedelta(days=1)\n",
    "            yesterday_str = yesterday_kst.strftime(\"%Y/%m/%d\")\n",
    "            if date == yesterday_str:\n",
    "                # 예: '[두산-LG]' → 두산, LG\n",
    "                home_team_name = cols[2].text.strip()\n",
    "                out_team_name = cols[2].text.strip()\n",
    "                crowd_number = cols[5].text.strip()\n",
    "\n",
    "                crowd_data[f\"{out_team_name}\"] = crowd_number\n",
    "                crowd_data[f\"{home_team_name}\"] = crowd_number\n",
    "\n",
    "        except Exception as e:\n",
    "            print(f\"날짜 파싱 오류: {e}\")\n",
    "\n",
    "    return crowd_data\n",
    "\n",
    "\n",
    "get_crowd_data()"
   ]
  },
  {
   "cell_type": "code",
   "execution_count": 77,
   "metadata": {},
   "outputs": [
    {
     "data": {
      "text/plain": [
       "{'LG': '0.875',\n",
       " 'SSG': '0.643',\n",
       " '삼성': '0.588',\n",
       " 'KT': '0.533',\n",
       " '롯데': '0.471',\n",
       " 'NC': '0.400',\n",
       " '두산': '0.389',\n",
       " '한화': '0.389',\n",
       " '키움': '0.389',\n",
       " 'KIA': '0.375'}"
      ]
     },
     "execution_count": 77,
     "metadata": {},
     "output_type": "execute_result"
    }
   ],
   "source": [
    "import requests\n",
    "from bs4 import BeautifulSoup\n",
    "\n",
    "\n",
    "def get_team_winrate_data():\n",
    "    url = \"https://www.koreabaseball.com/Record/TeamRank/TeamRankDaily.aspx\"\n",
    "    response = requests.get(url)\n",
    "    response.encoding = \"utf-8\"\n",
    "\n",
    "    soup = BeautifulSoup(response.text, \"html.parser\")\n",
    "    rows = soup.table.find_all(\"tr\")\n",
    "\n",
    "    team_data = {}\n",
    "\n",
    "    for row in rows[1:]:  # 첫 번째 행은 헤더\n",
    "        cols = row.find_all(\"td\")\n",
    "        if len(cols) >= 7:\n",
    "            team_name = cols[1].text.strip()\n",
    "            win_rate = cols[6].text.strip()\n",
    "            team_data[team_name] = win_rate\n",
    "\n",
    "    return team_data\n",
    "\n",
    "\n",
    "get_team_winrate_data()"
   ]
  },
  {
   "cell_type": "code",
   "execution_count": null,
   "metadata": {},
   "outputs": [],
   "source": []
  }
 ],
 "metadata": {
  "kernelspec": {
   "display_name": "venv",
   "language": "python",
   "name": "python3"
  },
  "language_info": {
   "codemirror_mode": {
    "name": "ipython",
    "version": 3
   },
   "file_extension": ".py",
   "mimetype": "text/x-python",
   "name": "python",
   "nbconvert_exporter": "python",
   "pygments_lexer": "ipython3",
   "version": "3.12.7"
  }
 },
 "nbformat": 4,
 "nbformat_minor": 2
}

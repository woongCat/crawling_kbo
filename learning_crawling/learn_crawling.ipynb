{
 "cells": [
  {
   "cell_type": "markdown",
   "metadata": {},
   "source": [
    "# 1. robots.txt\n",
    "\n",
    "robots.txt는 웹사이트에 웹 [크롤러](https://namu.wiki/w/%ED%81%AC%EB%A1%A4%EB%A7%81 \"크롤링\") 같은 로봇들의 접근을 제어하기 위한 규약이다. 아직 권고안이라 꼭 지킬 의무는 없다.\n",
    "\n",
    "- naver.com/robtos.txt\n",
    "\n",
    "```txt\n",
    "User-agent: *\n",
    "Disallow: /\n",
    "Allow : /$\n",
    "Allow : /.well-known/privacy-sandbox-attestations.json\n",
    "```"
   ]
  },
  {
   "cell_type": "markdown",
   "metadata": {},
   "source": [
    "# 2. pip install beautifulsoup4\n",
    "\n",
    "```\n",
    "python -m venv venv\n",
    "source venv/bin/activate\n",
    "pip install beautifulsoup4\n",
    "pip install requests\n",
    "```"
   ]
  },
  {
   "cell_type": "code",
   "execution_count": null,
   "metadata": {},
   "outputs": [],
   "source": []
  },
  {
   "cell_type": "markdown",
   "metadata": {},
   "source": []
  }
 ],
 "metadata": {
  "kernelspec": {
   "display_name": "venv",
   "language": "python",
   "name": "python3"
  },
  "language_info": {
   "name": "python",
   "version": "3.12.7"
  }
 },
 "nbformat": 4,
 "nbformat_minor": 2
}
